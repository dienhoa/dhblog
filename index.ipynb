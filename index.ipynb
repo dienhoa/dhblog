{
 "cells": [
  {
   "cell_type": "markdown",
   "metadata": {},
   "source": [
    "# dhblog"
   ]
  },
  {
   "cell_type": "markdown",
   "metadata": {},
   "source": [
    "Hello all, I'm Dien-Hoa Truong, Data Scientist, currently living in the french riviera. I love programming, and math and am a big fan of [fast.ai](https://www.fast.ai/). Here is where I share all the interesting things I discover along this AI journey\n",
    "\n",
    "You can find me at:\n",
    "\n",
    "- Twitter: [https://twitter.com/DienhoaT](https://twitter.com/DienhoaT)\n",
    "- Kaggle: [https://www.kaggle.com/dienhoa](https://www.kaggle.com/dienhoa)\n",
    "- Fast.ai Forum: [https://forums.fast.ai/u/dhoa/summary](https://forums.fast.ai/u/dhoa/summary)"
   ]
  }
 ],
 "metadata": {
  "kernelspec": {
   "display_name": "Python 3 (ipykernel)",
   "language": "python",
   "name": "python3"
  },
  "language_info": {
   "codemirror_mode": {
    "name": "ipython",
    "version": 3
   },
   "file_extension": ".py",
   "mimetype": "text/x-python",
   "name": "python",
   "nbconvert_exporter": "python",
   "pygments_lexer": "ipython3",
   "version": "3.8.13"
  }
 },
 "nbformat": 4,
 "nbformat_minor": 4
}
